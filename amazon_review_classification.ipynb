{
 "cells": [
  {
   "cell_type": "markdown",
   "metadata": {},
   "source": [
    "# COLX 565 Lab Assignment 3: Amazon reviews "
   ]
  },
  {
   "cell_type": "markdown",
   "metadata": {},
   "source": [
    "## Assignment Objectives"
   ]
  },
  {
   "cell_type": "markdown",
   "metadata": {},
   "source": [
    "In this assignment you will\n",
    "- Carefully evaluate approaches to polarity classification using large datasets\n",
    "- Do fine-grained sentiment analysis with SVM Ranking\n",
    "- Compare automatically-generated scores with gold-standard scores for profiling Amazon reviewers"
   ]
  },
  {
   "cell_type": "markdown",
   "metadata": {},
   "source": [
    "## Getting Started"
   ]
  },
  {
   "cell_type": "markdown",
   "metadata": {},
   "source": [
    "Run the code below to access relevant modules (you can add to this as needed)"
   ]
  },
  {
   "cell_type": "code",
   "execution_count": 2,
   "metadata": {},
   "outputs": [],
   "source": [
    "import numpy as np\n",
    "import gzip\n",
    "import random\n",
    "from sklearn.metrics import f1_score\n",
    "from collections import defaultdict\n",
    "from sklearn.svm import LinearSVC, LinearSVR\n",
    "import numpy as np\n",
    "import matplotlib.pyplot as plt\n",
    "from sklearn.feature_extraction.text import CountVectorizer\n",
    "from scipy.stats import kendalltau\n",
    "from scipy.sparse import vstack"
   ]
  },
  {
   "cell_type": "markdown",
   "metadata": {},
   "source": [
    "## Tidy Submission\n",
    "\n",
    "rubric={mechanics:1}"
   ]
  },
  {
   "cell_type": "markdown",
   "metadata": {},
   "source": [
    "To get the marks for tidy submission:\n",
    "\n",
    "- Submit the assignment by filling in this jupyter notebook with your answers embedded\n",
    "- Be sure to follow the [general lab instructions](https://ubc-mds.github.io/resources_pages/general_lab_instructions)\n",
    "- You should download the Amazon product review corpora but do not include them with your submission. Modify the path below. You also should not unzip them."
   ]
  },
  {
   "cell_type": "code",
   "execution_count": 3,
   "metadata": {},
   "outputs": [],
   "source": [
    "amazon_review_dir = \"/Users/chidera/Desktop/COLX_565/amazon_reviews/\""
   ]
  },
  {
   "cell_type": "markdown",
   "metadata": {},
   "source": [
    "### Exercise 1: Evaluation of polarity classification"
   ]
  },
  {
   "cell_type": "markdown",
   "metadata": {},
   "source": [
    "In this lab, you'll be building SVM models with collections of amazon reviews. Go to [this site](http://jmcauley.ucsd.edu/data/amazon/) and download the 5-core review sets for the following product types: \"Video Games\", \"Beauty\", \"Cell Phones and Accessories\", and \"Musical Instruments\". You will not actually present any results involving \"Musical Instruments\" in this lab, since the dataset is too small (a mere ten thousand reviews!), but you should use Musical Instruments for testing. For everything else in this lab, you should run things with all three datasets to see if your results are consistent (for the most part, they should be, though with small variations).\n",
    "\n",
    "Each review in the corpus consists of the following information."
   ]
  },
  {
   "cell_type": "raw",
   "metadata": {},
   "source": [
    "{\n",
    "  \"reviewerID\": \"A2SUAM1J3GNN3B\",\n",
    "  \"asin\": \"0000013714\",\n",
    "  \"reviewerName\": \"J. McDonald\",\n",
    "  \"helpful\": [2, 3],\n",
    "  \"reviewText\": \"I bought this for my husband who plays the piano.  He is having a wonderful time playing these old hymns.  The music  is at times hard to read because we think the book was published for singing from more than playing from.  Great purchase though!\",\n",
    "  \"overall\": 5.0,\n",
    "  \"summary\": \"Heavenly Highway Hymns\",\n",
    "  \"unixReviewTime\": 1252800000,\n",
    "  \"reviewTime\": \"09 13, 2009\"\n",
    "}"
   ]
  },
  {
   "cell_type": "markdown",
   "metadata": {},
   "source": [
    "In this lab, we will make use of the following aspects of the review: \"reviewText\" (the content of the review), \"summary\" (the title), \"reviewerID\" (a unique identifier indicating who wrote it, \"asin\" (the serial number of the product), and, most importantly, \"overall\", which gives a star rating to the review on a 1-5 scale. "
   ]
  },
  {
   "cell_type": "markdown",
   "metadata": {},
   "source": [
    "#### 1.1\n",
    "rubric={accuracy:1,efficiency:1}\n",
    "\n",
    "Below is some code which loads in one of the data files and creates a test set by randomly selecting reviews. We could take everything else as our training set, but we'd like to evaluate our classifier in the context where it cannot take advantage of the biases associated with particular reviewers and products. Your first task is finish this function so it creates a training set (`train_set`) which consists of all the reviews which do not involve *either* a reviewer or a product that appears in the test set."
   ]
  },
  {
   "cell_type": "code",
   "execution_count": 4,
   "metadata": {},
   "outputs": [],
   "source": [
    "def load_amazon_reviews_no_dups(corpus_path,test_size=2000,seed=42):\n",
    "    '''loads a gzipped amazon review corpus, sampling a test set of 2000 reviews, with the rest becoming\n",
    "    training provided that they are not reviews of the same product or written by the same reviewers\n",
    "    as training data'''\n",
    "    g = gzip.open(corpus_path, 'r')\n",
    "\n",
    "    all_reviews = [eval(line) for line in g]\n",
    "    random.seed(seed)\n",
    "    random.shuffle(all_reviews)\n",
    "    test_set = random.sample(all_reviews, test_size)\n",
    "\n",
    "    test_lookup = set()\n",
    "    train_set = list()\n",
    "    for review in test_set:\n",
    "        test_lookup.add(review['reviewerID'])\n",
    "        test_lookup.add(review['asin'])\n",
    "        \n",
    "    for review in all_reviews:\n",
    "        if review not in test_set:\n",
    "            if review['reviewerID'] in test_lookup or review['asin'] in test_lookup:\n",
    "                continue\n",
    "            else:\n",
    "                train_set.append(review)\n",
    "\n",
    "    return train_set,test_set"
   ]
  },
  {
   "cell_type": "code",
   "execution_count": 5,
   "metadata": {},
   "outputs": [
    {
     "name": "stdout",
     "output_type": "stream",
     "text": [
      "Success!\n"
     ]
    }
   ],
   "source": [
    "train_set, test_set = load_amazon_reviews_no_dups(amazon_review_dir + \"reviews_Musical_Instruments_5.json.gz\",test_size=200)\n",
    "assert len(train_set) == 6100\n",
    "print(\"Success!\")"
   ]
  },
  {
   "cell_type": "markdown",
   "metadata": {},
   "source": [
    "#### 1.2\n",
    "rubric={accuracy:1,quality:1}\n",
    "\n",
    "Next, we need to prepare the data for sklearn. The provided `prepare_for_classification` uses a CountVectorizer for this purpose. You need to write the `prepare_for_vectorizer` function which should convert the review format into a list of strings (the texts), and the list of *binary* classifications (positive and negative, less than 3 is negative, greater than 3 is positive). You should include both the summary (title) and the body of the review together as the text, and you should exclude reviews which have a rating of 3 as being neither positive and negative."
   ]
  },
  {
   "cell_type": "code",
   "execution_count": 172,
   "metadata": {},
   "outputs": [],
   "source": [
    "#your code here\n",
    "def prepare_for_vectorizer(data):\n",
    "    '''\n",
    "    input: Takes a list of reviews \n",
    "    output: A list of strings and list of classes \n",
    "    '''\n",
    "    texts = list()\n",
    "    classes = list()\n",
    "    for review in data:\n",
    "        if review['overall'] < 3:\n",
    "            classes.append('negative')\n",
    "            texts.append(review['summary'] + ' ' + review['reviewText'] )\n",
    "        elif review['overall'] > 3:\n",
    "            classes.append('positive')\n",
    "            texts.append(review['summary'] + ' ' + review['reviewText'])\n",
    "            \n",
    "    \n",
    "    return texts, classes\n",
    "\n",
    "def prepare_for_classification(train,test,max_n=2):\n",
    "    '''convert lists of reviews train and test to spare feature matrices X_train and X_test,\n",
    "    and lists of binary polarity classifications train_class and test_class'''\n",
    "    vectorizer = CountVectorizer(ngram_range=(1,max_n),min_df=2)\n",
    "    train_texts, train_class = prepare_for_vectorizer(train)\n",
    "    test_texts, test_class = prepare_for_vectorizer(test)\n",
    "    X_train = vectorizer.fit_transform(train_texts)\n",
    "    X_test = vectorizer.transform(test_texts)\n",
    "    return X_train,train_class, X_test,test_class"
   ]
  },
  {
   "cell_type": "code",
   "execution_count": 116,
   "metadata": {},
   "outputs": [
    {
     "name": "stdout",
     "output_type": "stream",
     "text": [
      "Success!\n"
     ]
    }
   ],
   "source": [
    "music_train, train_class, music_test, test_class = prepare_for_classification(train_set,test_set)\n",
    "assert music_train.shape[0] == 5641\n",
    "assert music_train.shape[1] == 57515\n",
    "print(\"Success!\")"
   ]
  },
  {
   "cell_type": "markdown",
   "metadata": {},
   "source": [
    "#### 1.3\n",
    "rubric={accuracy:2,quality:1}\n",
    "\n",
    "Now, using the three large datasets and the functions above (note the `max_n` keyword argument for `prepare_for_classification`), investigate which choice of $n$ gives you the best results for linear SVM $n$-gram models (check n=1,2,3). Since these datasets are imbalanced, you should evaluate with macro-averaged f-score instead of accuracy. You should also print the shape of your training set matrix for each test that you do (they are extremely big!). This will take a while with the main datasets, again you should test it with the smaller one first...."
   ]
  },
  {
   "cell_type": "code",
   "execution_count": 169,
   "metadata": {},
   "outputs": [],
   "source": [
    "beauty_train, beauty_test = load_amazon_reviews_no_dups(amazon_review_dir + \"reviews_Beauty_5.json.gz\",test_size=2000)\n",
    "cell_phone_train, cell_phone_test = load_amazon_reviews_no_dups(amazon_review_dir + \"reviews_Cell_Phones_and_Accessories_5.json.gz\",test_size=2000)\n",
    "video_train, video_test = load_amazon_reviews_no_dups(amazon_review_dir + \"reviews_Video_Games_5.json.gz\",test_size=2000)"
   ]
  },
  {
   "cell_type": "code",
   "execution_count": 170,
   "metadata": {},
   "outputs": [],
   "source": [
    "all_train = [beauty_train, cell_phone_train, video_train]\n",
    "all_test = [beauty_test, cell_phone_test, video_test]\n",
    "data = ['beauty', 'cell_phone', 'video']"
   ]
  },
  {
   "cell_type": "code",
   "execution_count": 173,
   "metadata": {},
   "outputs": [
    {
     "name": "stderr",
     "output_type": "stream",
     "text": [
      "/Users/chidera/opt/anaconda3/lib/python3.7/site-packages/sklearn/svm/_base.py:947: ConvergenceWarning: Liblinear failed to converge, increase the number of iterations.\n",
      "  \"the number of iterations.\", ConvergenceWarning)\n"
     ]
    },
    {
     "name": "stdout",
     "output_type": "stream",
     "text": [
      "beauty  F_score for n_gram 1,2,3\n",
      "[0.8387896448566143, 0.9129808885579549, 0.9158339741790055]\n",
      "*************\n",
      "cell_phone  F_score for n_gram 1,2,3\n",
      "[0.8515663726867151, 0.8842865497976082, 0.8935686557637776]\n",
      "*************\n",
      "video  F_score for n_gram 1,2,3\n",
      "[0.8530208389424372, 0.8953999859847233, 0.8874218575726746]\n",
      "*************\n"
     ]
    }
   ],
   "source": [
    "all_train = [beauty_train, cell_phone_train, video_train]\n",
    "all_test = [beauty_test, cell_phone_test, video_test]\n",
    "n_gram = [1,2,3]\n",
    "for i in range(len(all_train)):\n",
    "    f1_list = list()\n",
    "    for max_n in n_gram:\n",
    "        X_train, train_class, X_test, test_class = prepare_for_classification(all_train[i], all_test[i], max_n)\n",
    "        \n",
    "        clf = LinearSVC()\n",
    "        clf.fit(X_train, train_class)\n",
    "        prediction = clf.predict(X_test)\n",
    "        f1 = f1_score(test_class, prediction, average='macro')\n",
    "        f1_list.append(f1)\n",
    "        \n",
    "    print(data[i], ' F_score for n_gram 1, 2, 3')     \n",
    "    print(f1_list)\n",
    "    print(\"*************\")\n",
    "    "
   ]
  },
  {
   "cell_type": "markdown",
   "metadata": {},
   "source": [
    "#### 1.4\n",
    "rubric={accuracy:2,quality:1,viz:1}\n",
    "\n",
    "Having found a reasonable $n$ (if things are close, prefer the lower $n$), investigate the effect of the size of the training data on your classification preformance. You will create a line graph containing the results for all three corpora. Your X axis should be logrithmic, and you should check the range from 10 to 100000."
   ]
  },
  {
   "cell_type": "code",
   "execution_count": 174,
   "metadata": {},
   "outputs": [],
   "source": [
    "## Best n_gram for each data set for the results above \n",
    "best_n_gram = [3, 3, 2]\n",
    "\n",
    "## Slicing range for the visualization\n",
    "slicing_range = [10**exp for exp in range(2, 6)]\n",
    "\n",
    "data = ['beauty', 'cell_phone', 'video']\n",
    "\n",
    "f1_list = defaultdict(list)\n",
    "for i in range(len(all_train)):\n",
    "    X_train, train_class, X_test, test_class = prepare_for_classification(all_train[i], all_test[i], best_n_gram[i])\n",
    "    for j in slicing_range:\n",
    "        clf = LinearSVC()\n",
    "        clf.fit(X_train[:j], train_class[:j])\n",
    "        prediction = clf.predict(X_test)\n",
    "        f1 = f1_score(test_class, prediction, average='macro')\n",
    "        f1_list[data[i]].append((j, f1))"
   ]
  },
  {
   "cell_type": "code",
   "execution_count": 179,
   "metadata": {},
   "outputs": [
    {
     "data": {
      "text/plain": [
       "defaultdict(list,\n",
       "            {'beauty': [(100, 0.4748692242268235),\n",
       "              (1000, 0.7269006092091074),\n",
       "              (10000, 0.8589860171655207),\n",
       "              (100000, 0.9215401454211067)],\n",
       "             'cell_phone': [(100, 0.6458221089110527),\n",
       "              (1000, 0.7593325407106395),\n",
       "              (10000, 0.8593083921868041),\n",
       "              (100000, 0.8842865497976082)],\n",
       "             'video': [(100, 0.4728150066795484),\n",
       "              (1000, 0.6952593469647981),\n",
       "              (10000, 0.8409244642464669),\n",
       "              (100000, 0.894687012211224)]})"
      ]
     },
     "execution_count": 179,
     "metadata": {},
     "output_type": "execute_result"
    }
   ],
   "source": [
    "f1_list"
   ]
  },
  {
   "cell_type": "code",
   "execution_count": 196,
   "metadata": {},
   "outputs": [
    {
     "name": "stdout",
     "output_type": "stream",
     "text": [
      "4\n"
     ]
    },
    {
     "data": {
      "image/png": "[encoded data removed]",
      "text/plain": [
       "<Figure size 720x720 with 1 Axes>"
      ]
     },
     "metadata": {
      "needs_background": "light"
     },
     "output_type": "display_data"
    }
   ],
   "source": [
    "import numpy as np\n",
    "\n",
    "fig= plt.figure(figsize=(10,10))\n",
    "\n",
    "axes= fig.add_axes([0.1,0.1,0.8,0.8])\n",
    "\n",
    "beauty_X = list()\n",
    "beauty_Y = list()\n",
    "cell_phone_X = list()\n",
    "cell_phone_Y = list()\n",
    "video_X = list()\n",
    "video_Y = list()\n",
    "print(len(f1_list['beauty']))\n",
    "for val in f1_list['beauty']:\n",
    "    beauty_X.append(val[0])\n",
    "    beauty_Y.append(val[1])\n",
    "    \n",
    "for val in f1_list['cell_phone']:\n",
    "    cell_phone_X.append(val[0])\n",
    "    cell_phone_Y.append(val[1])\n",
    "    \n",
    "for val in f1_list['video']:\n",
    "    video_X.append(val[0])\n",
    "    video_Y.append(val[1])\n",
    "    \n",
    "axes.plot(beauty_X, beauty_Y)\n",
    "axes.plot(cell_phone_X, cell_phone_Y)\n",
    "axes.plot(video_X, video_Y)\n",
    "axes.legend(['beauty', 'cell_phone', 'video'], loc='lower right')\n",
    "\n",
    "plt.show()\n"
   ]
  },
  {
   "cell_type": "markdown",
   "metadata": {},
   "source": [
    "### Exercise 2: SVM Ranking\n",
    "\n",
    "In this exercise, you will compare SVM regression to SVM ranking for predicting fine-grained opinion ratings."
   ]
  },
  {
   "cell_type": "markdown",
   "metadata": {},
   "source": [
    "#### 2.1\n",
    "rubric={accuracy:2,quality:1}\n",
    "\n",
    "First, do the regression version. Relative to what you did in exercise 1, there are three changes\n",
    "\n",
    "- adapt the `prepare_for_vectorizer` function to `prepare_for_vectorizer_regression` function which no longer binarizes the data\n",
    "- change the SVC (support vector classifier) to a SVR (support vector regressor)\n",
    "- evalute the predicted ranks against the original ranks using Kendall's Tau, not f-score\n",
    "\n",
    "As usual, run it for all three datasets."
   ]
  },
  {
   "cell_type": "code",
   "execution_count": 9,
   "metadata": {},
   "outputs": [],
   "source": [
    "#prepare for vectorizor regression\n",
    "#prepare for regression\n",
    "def prepare_for_vectorizer_regression(data):\n",
    "    '''\n",
    "    input: Takes a list of reviews \n",
    "    output: A list of strings and list of classes \n",
    "    '''\n",
    "    texts = list()\n",
    "    classes = list()\n",
    "    for review in data:\n",
    "        classes.append(review['overall'])\n",
    "        texts.append(review['summary'] + ' ' + review['reviewText'] )\n",
    "    \n",
    "    return texts, classes\n",
    "\n",
    "def prepare_for_regression(train,test,max_n=2):\n",
    "    '''convert lists of reviews train and test to spare feature matrices X_train and X_test,\n",
    "    and lists of binary polarity classifications train_class and test_class'''\n",
    "    vectorizer = CountVectorizer(ngram_range=(1,max_n),min_df=2)\n",
    "    train_texts, train_class = prepare_for_vectorizer_regression(train)\n",
    "    test_texts, test_class = prepare_for_vectorizer_regression(test)\n",
    "    X_train = vectorizer.fit_transform(train_texts)\n",
    "    X_test = vectorizer.transform(test_texts)\n",
    "    return X_train,train_class, X_test,test_class"
   ]
  },
  {
   "cell_type": "code",
   "execution_count": 133,
   "metadata": {},
   "outputs": [
    {
     "data": {
      "text/plain": [
       "defaultdict(list,\n",
       "            {'beauty': [(0.5259545905347947, 2.5851055387209322e-22)],\n",
       "             'cell_phone': [(0.4720111000380144, 1.5078874980399432e-18)],\n",
       "             'video': [(0.35204247246862014, 1.0772592899361658e-10)]})"
      ]
     },
     "execution_count": 133,
     "metadata": {},
     "output_type": "execute_result"
    }
   ],
   "source": [
    "result = defaultdict(list)\n",
    "for i in range(len(all_train)):\n",
    "    X_train, train_class, X_test, test_class = prepare_for_regression(all_train[i], all_test[i], best_n_gram[i])\n",
    "        \n",
    "    clf = LinearSVR()\n",
    "    clf.fit(X_train, train_class)\n",
    "    prediction = clf.predict(X_test)\n",
    "    tau, p_value = kendalltau(test_class, prediction)\n",
    "    result[data[i]].append((tau, p_value))\n",
    "        \n",
    "result"
   ]
  },
  {
   "cell_type": "markdown",
   "metadata": {},
   "source": [
    "#### 2.2\n",
    "rubric={accuracy:3,efficiency:1}\n",
    "\n",
    "Now, you will implement SVMrank using LinearSVC. The main part is to write a function `convert to pairwise` which converts the normal output of `prepare_for_vectorizer_regression` and turns it into a (pairwise) classification task using the following logic:\n",
    "\n",
    "- for each original datapoint (feature vector), randomly select one other datapoint that has a different rating (you should keep trying until you get one, don't discard data!)\n",
    "- create a feature vector which is the difference between the two feature vectors\n",
    "- create a label which should be 1 if the rating of the first datapoint is larger than the second, or 0 if the second rating is larger\n",
    "\n",
    "You should return a new feature matrx and the corresponding list of labels. Note that you MUST preserve the sparsity of the feature matrix, these matrices are far too big to be densified.\n",
    "\n",
    "This will take a while for the 100k datapoints you have in each corpus, and so you should have a counter that shows your progress."
   ]
  },
  {
   "cell_type": "code",
   "execution_count": 156,
   "metadata": {},
   "outputs": [],
   "source": [
    "def convert_to_pairwise(data,ratings):\n",
    "    '''covert a normal collection of data with ordinal ratings into a pairwise classification task\n",
    "    by randomly choosing one comparison datapoint with a different rating and taking the direction of\n",
    "    the difference as the class of the new datapoint'''\n",
    "    # your code here\n",
    "    count = 0\n",
    "    pairwise_class = list()\n",
    "    pairwise_data = list()\n",
    "    num_of_examples = data.shape[0]\n",
    "    for i, row in enumerate(data):\n",
    "        count += 1\n",
    "        current_row = data[i]\n",
    "        current_class = ratings[i]\n",
    "        next_index = np.random.randint(0, num_of_examples)\n",
    "        while ratings[next_index] == current_class:\n",
    "            \n",
    "            next_index = np.random.randint(0, num_of_examples)\n",
    "        \n",
    "        next_example = data[next_index]\n",
    "        difference = current_row - next_example\n",
    "\n",
    "        if current_class > ratings[next_index]:\n",
    "            label = 1\n",
    "        else:\n",
    "            label = 0\n",
    "        pairwise_data.append(difference)\n",
    "        pairwise_class.append(label)\n",
    "\n",
    "    pairwise_data = vstack(pairwise_data)\n",
    "    \n",
    "    return pairwise_data, pairwise_class\n",
    "                \n",
    "        "
   ]
  },
  {
   "cell_type": "code",
   "execution_count": 113,
   "metadata": {},
   "outputs": [
    {
     "name": "stdout",
     "output_type": "stream",
     "text": [
      "Success!\n"
     ]
    }
   ],
   "source": [
    "train, test = load_amazon_reviews_no_dups(amazon_review_dir + \"reviews_Musical_Instruments_5.json.gz\",test_size=200) \n",
    "train_features,train_scores, test_features,test_scores = prepare_for_regression(train,test)\n",
    "pairwise_data, pairwise_class = convert_to_pairwise(train_features,train_scores)\n",
    "assert pairwise_data.shape == train_features.shape\n",
    "assert len(set(pairwise_class)) == 2\n",
    "print(\"Success!\")"
   ]
  },
  {
   "cell_type": "markdown",
   "metadata": {},
   "source": [
    "#### 2.3\n",
    "rubric={accuracy:2}\n",
    "\n",
    "Use `convert to pairwise` to carry out SVM ranking. Note that although you are converting the training set to pairwise, you don't do this for the test set. Note also that you can't use the `predict` function for the resulting classifier because the result would be a class. Instead, you want the result from taking a dot product of each feature vector and the weights of the SVM classifier (`coef_`). Again, evaluate the performance in the 3 corpora using Kendall's tau. You should get strikingly better results."
   ]
  },
  {
   "cell_type": "code",
   "execution_count": 136,
   "metadata": {},
   "outputs": [
    {
     "name": "stdout",
     "output_type": "stream",
     "text": [
      "0.5931139675123936\n"
     ]
    }
   ],
   "source": [
    "prediction = list()\n",
    "for feature in X_test:\n",
    "    dot_product = np.sum(feature.multiply(clf.coef_))\n",
    "    #print(dot_product)\n",
    "\n",
    "    prediction.append(dot_product)\n",
    "tau, p_value = kendalltau(test_class, prediction)\n",
    "print(tau)"
   ]
  },
  {
   "cell_type": "code",
   "execution_count": 157,
   "metadata": {},
   "outputs": [
    {
     "name": "stderr",
     "output_type": "stream",
     "text": [
      "/Users/chidera/opt/anaconda3/lib/python3.7/site-packages/sklearn/svm/_base.py:947: ConvergenceWarning: Liblinear failed to converge, increase the number of iterations.\n",
      "  \"the number of iterations.\", ConvergenceWarning)\n",
      "/Users/chidera/opt/anaconda3/lib/python3.7/site-packages/sklearn/svm/_base.py:947: ConvergenceWarning: Liblinear failed to converge, increase the number of iterations.\n",
      "  \"the number of iterations.\", ConvergenceWarning)\n",
      "/Users/chidera/opt/anaconda3/lib/python3.7/site-packages/sklearn/svm/_base.py:947: ConvergenceWarning: Liblinear failed to converge, increase the number of iterations.\n",
      "  \"the number of iterations.\", ConvergenceWarning)\n"
     ]
    },
    {
     "data": {
      "text/plain": [
       "{'beauty': (0.5646617167809718, 2.713317398151985e-239),\n",
       " 'cell_phone': (0.5493441588182651, 2.6247682759398534e-229),\n",
       " 'video': (0.5170716574294437, 3.884122453122774e-204)}"
      ]
     },
     "execution_count": 157,
     "metadata": {},
     "output_type": "execute_result"
    }
   ],
   "source": [
    "# test set should use the 2000\n",
    "result = dict()\n",
    "for i in range(len(all_train)):\n",
    "    prediction = list()\n",
    "    X_train, train_class, X_test, test_class = prepare_for_regression(all_train[i], all_test[i], best_n_gram[i])\n",
    "    pairwise_data, pairwise_class = convert_to_pairwise(X_train,train_class)\n",
    "    clf = LinearSVC()\n",
    "    clf.fit(pairwise_data, pairwise_class)\n",
    "    for feature in X_test:\n",
    "        dot_product = np.sum(feature.multiply(clf.coef_))\n",
    "        #print(dot_product)\n",
    "\n",
    "        prediction.append(dot_product)\n",
    "    tau, p_value = kendalltau(test_class, prediction)\n",
    "    result[data[i]] = (tau, p_value)\n",
    "        \n",
    "result"
   ]
  },
  {
   "cell_type": "markdown",
   "metadata": {},
   "source": [
    "### Exercise 3: Pollyannas and Negative Nellies\n",
    "rubric={accuracy:3,quality:1}\n",
    "\n",
    "In this exercise, we are going to see how well our automated system is able to duplicate the conclusions of a simple kind of \"author profiling\" based on gold standard ratings. Two functions are provided to you: the first is `load_amazon_reviews_reviewer_groups` (a variation on `load_amazon_reviews_no_dups`) which creates a test set consisting of reviews written by authors with a total of at least 20 reviews; the training set consists of all other reviews.\n",
    "\n",
    "The second function uses the test set to derive a list of \"Pollyannas\" and \"Negative Nellies\". The former is defined as reviewers who have only given five star reviews, and the latter are those reviewers whose average review rating is below 3 (True Negative Nellies, those who only give 1 star reviews, do not seem to exist! The Pollyanna hypothesis at work yet again...)."
   ]
  },
  {
   "cell_type": "code",
   "execution_count": 34,
   "metadata": {
    "scrolled": true
   },
   "outputs": [],
   "source": [
    "review_min = 20\n",
    "\n",
    "def load_amazon_reviews_reviewer_groups(corpus_path,test_size=2000,seed=42):\n",
    "    '''loads a gzipped amazon review corpus, prepare a test set consisting of reviews whose reviewers\n",
    "    have at least 20 total reviews, and the training set consisting of all other reviews'''\n",
    "    g = gzip.open(corpus_path, 'r')\n",
    "    all_reviews = [eval(line) for line in g]\n",
    "    random.seed(seed)\n",
    "    random.shuffle(all_reviews)\n",
    "    train_set = []\n",
    "    test_set = []\n",
    "    reviewer_groups = defaultdict(list)\n",
    "    for i,review in enumerate(all_reviews):\n",
    "        reviewer_groups[review[\"reviewerID\"]].append(review)\n",
    "    for reviewer_group in reviewer_groups.values():\n",
    "        if len(reviewer_group) > review_min:\n",
    "            for review in reviewer_group:\n",
    "                test_set.append(review)\n",
    "        else:\n",
    "            train_set.extend(reviewer_group)\n",
    "        \n",
    "    return train_set,test_set\n",
    "\n",
    "\n",
    "def get_pollyannas_and_nellies(reviews):\n",
    "    '''get a list of pollyannas (reviewers with only 5 star reviews) and negative nellies (those\n",
    "    whose average rating is negative) based on the list of reviews'''\n",
    "    reviewer_ratings = defaultdict(list)\n",
    "    nellies = set()\n",
    "    pollyannas = set()\n",
    "    for review in reviews:\n",
    "        reviewer_ratings[review[\"reviewerID\"]].append(review[\"overall\"])\n",
    "    for reviewer,ratings in reviewer_ratings.items():\n",
    "        avg = sum(ratings)/len(ratings)\n",
    "        if avg < 3:\n",
    "            nellies.add(reviewer)\n",
    "        if avg == 5:\n",
    "            pollyannas.add(reviewer)\n",
    "    return pollyannas,nellies"
   ]
  },
  {
   "cell_type": "markdown",
   "metadata": {},
   "source": [
    "Use the SVM ranking approach from exercise 2 to derived automatic ratings to the reviews for all reviewers with at least 20 reviews (i.e. the test set provided by `load_amazon_reviews_reviewer_groups`). Then use these ratings to rank the reviewers by the average positivity of their reviews, and see what percentage of the gold standard \"Nellies\" (as identified by `get_pollyannas_and_nellies`) are in the bottom 20% in terms of (automatically-determined) average positivity, and what percentage of gold standard \"Pollyannas\" are in the top 20%. A high score indicates that we are more or less able to re-identify reviewers with strongly positive and negative biases using only automatically-generated review scores."
   ]
  },
  {
   "cell_type": "code",
   "execution_count": 160,
   "metadata": {},
   "outputs": [],
   "source": [
    "beauty_train, beauty_test = load_amazon_reviews_reviewer_groups(amazon_review_dir + \"reviews_Beauty_5.json.gz\")\n",
    "cell_phone_train, cell_phone_test = load_amazon_reviews_reviewer_groups(amazon_review_dir + \"reviews_Cell_Phones_and_Accessories_5.json.gz\")\n",
    "video_train, video_test = load_amazon_reviews_reviewer_groups(amazon_review_dir + \"reviews_Video_Games_5.json.gz\")"
   ]
  },
  {
   "cell_type": "code",
   "execution_count": 161,
   "metadata": {},
   "outputs": [],
   "source": [
    "review_group_train = [beauty_train, cell_phone_train, video_train]\n",
    "review_group_test = [beauty_test, cell_phone_test, video_test]"
   ]
  },
  {
   "cell_type": "code",
   "execution_count": 167,
   "metadata": {},
   "outputs": [
    {
     "name": "stderr",
     "output_type": "stream",
     "text": [
      "/Users/chidera/opt/anaconda3/lib/python3.7/site-packages/sklearn/svm/_base.py:947: ConvergenceWarning: Liblinear failed to converge, increase the number of iterations.\n",
      "  \"the number of iterations.\", ConvergenceWarning)\n"
     ]
    },
    {
     "name": "stdout",
     "output_type": "stream",
     "text": [
      "beauty  Polyanna accuracy:  0.8813559322033898\n",
      "**************\n",
      "beauty  Nellies accuracy:  0.95\n",
      "**************\n"
     ]
    },
    {
     "name": "stderr",
     "output_type": "stream",
     "text": [
      "/Users/chidera/opt/anaconda3/lib/python3.7/site-packages/sklearn/svm/_base.py:947: ConvergenceWarning: Liblinear failed to converge, increase the number of iterations.\n",
      "  \"the number of iterations.\", ConvergenceWarning)\n"
     ]
    },
    {
     "name": "stdout",
     "output_type": "stream",
     "text": [
      "cell_phone  Polyanna accuracy:  0.5714285714285714\n",
      "**************\n",
      "cell_phone  Nellies accuracy:  1.0\n",
      "**************\n"
     ]
    },
    {
     "name": "stderr",
     "output_type": "stream",
     "text": [
      "/Users/chidera/opt/anaconda3/lib/python3.7/site-packages/sklearn/svm/_base.py:947: ConvergenceWarning: Liblinear failed to converge, increase the number of iterations.\n",
      "  \"the number of iterations.\", ConvergenceWarning)\n"
     ]
    },
    {
     "name": "stdout",
     "output_type": "stream",
     "text": [
      "video  Polyanna accuracy:  0.625\n",
      "**************\n",
      "video  Nellies accuracy:  0.8596491228070176\n",
      "**************\n"
     ]
    }
   ],
   "source": [
    "all_data = list()\n",
    "for i in range(len(review_group_train)):\n",
    "    review_rank = defaultdict(list)\n",
    "    prediction = list()\n",
    "    sorted_rev = dict()\n",
    "    X_train, train_class, X_test, test_class = prepare_for_regression(review_group_train[i], review_group_test[i], best_n_gram[i])\n",
    "    pairwise_data, pairwise_class = convert_to_pairwise(X_train,train_class)\n",
    "    clf = LinearSVC()\n",
    "    clf.fit(pairwise_data, pairwise_class)\n",
    "    for j in range(len(test_class)):\n",
    "        dot_product = np.sum(X_test[j].multiply(clf.coef_))\n",
    "        review_rank[review_group_test[i][j]['reviewerID']].append(dot_product)\n",
    "    \n",
    "    \n",
    "    ## Sorting the reviews \n",
    "    for review in review_rank:\n",
    "        sorted_rev[review] = sum(review_rank[review])/len(review_rank[review])\n",
    "    sort_review = sorted(sorted_rev, key=sorted_rev.get)\n",
    "    ratio = len(sort_review) * 0.2\n",
    "    pred_polyannas = sort_review[-int(ratio):]\n",
    "    pred_nellies = sort_review[:int(ratio)]\n",
    "    \n",
    "    ### Evaluation for polyannas \n",
    "    correct = 0\n",
    "    gold_polyannas, gold_nellies = get_pollyannas_and_nellies(review_group_test[i])\n",
    "    for poly in pred_polyannas:\n",
    "        if poly in gold_polyannas:\n",
    "            correct += 1\n",
    "    poly_accuracy = correct/len(gold_polyannas)\n",
    "    print(data[i], \" Polyanna accuracy: \", poly_accuracy)\n",
    "    print('**************')\n",
    "    \n",
    "    ### Evaluation for nellies \n",
    "    correct = 0\n",
    "\n",
    "    for nellie in pred_nellies:\n",
    "        if nellie in gold_nellies:\n",
    "            correct += 1\n",
    "    nellie_accuracy = correct/len(gold_nellies)\n",
    "    print(data[i], \" Nellies accuracy: \", nellie_accuracy)\n",
    "    \n",
    "    print('**************')\n"
   ]
  },
  {
   "cell_type": "markdown",
   "metadata": {},
   "source": [
    "### Exercise 4: Sarcasm hunt (Optional)\n",
    "rubric={accuracy:1}\n",
    "\n",
    "Use some automatic method to find sarcasm in the Amazon Review corpus. You can use any method EXCEPT looking for explicit mentions of the word sarcasm (or related words). It's okay if you have to do some manual checking, but your automatic approach should greatly narrow it down. You can get most of the points in this problem if you find at least one, but for full points you should find more, at least 5."
   ]
  },
  {
   "cell_type": "code",
   "execution_count": null,
   "metadata": {},
   "outputs": [],
   "source": []
  }
 ],
 "metadata": {
  "kernelspec": {
   "display_name": "Python 3",
   "language": "python",
   "name": "python3"
  },
  "language_info": {
   "codemirror_mode": {
    "name": "ipython",
    "version": 3
   },
   "file_extension": ".py",
   "mimetype": "text/x-python",
   "name": "python",
   "nbconvert_exporter": "python",
   "pygments_lexer": "ipython3",
   "version": "3.7.4"
  }
 },
 "nbformat": 4,
 "nbformat_minor": 2
}
